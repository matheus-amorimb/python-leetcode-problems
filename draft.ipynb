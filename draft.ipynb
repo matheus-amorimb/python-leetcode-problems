{
 "cells": [
  {
   "cell_type": "code",
   "execution_count": 25,
   "metadata": {},
   "outputs": [],
   "source": [
    "def mergeAlternately(word1: str, word2: str):\n",
    "    word1_len = len(word1)\n",
    "    word2_len = len(word2)\n",
    "    word_aux = ''\n",
    "    word_greater = word1\n",
    "    word_lower = word2\n",
    "\n",
    "    if word1_len < 1:\n",
    "        raise ValueError('Word 1 length must be greater than 1')\n",
    "\n",
    "    if word2_len > 100:\n",
    "        raise ValueError('Word 2 length must be lower than 100')\n",
    "\n",
    "    if (\n",
    "        not word1.islower()\n",
    "        or not word2.islower()\n",
    "        or not word1.isalpha()\n",
    "        or not word2.isalpha()\n",
    "    ):\n",
    "        raise ValueError(\n",
    "            'The word must be only consist of lowercase English letters.'\n",
    "        )\n",
    "    \n",
    "    if word1_len < word2_len:\n",
    "        word_greater = word2\n",
    "        word_lower = word1\n",
    "    \n",
    "    word_lower += (len(word_greater) - len(word_lower)) * ' '\n",
    "\n",
    "    for i in zip(word_greater, word_lower):\n",
    "        word_aux  += i[0]\n",
    "        word_aux  += i[1]\n",
    "\n",
    "    print(word_aux.replace(' ', ''))"
   ]
  },
  {
   "cell_type": "code",
   "execution_count": 26,
   "metadata": {},
   "outputs": [
    {
     "name": "stdout",
     "output_type": "stream",
     "text": [
      "paqbrs\n"
     ]
    }
   ],
   "source": [
    "mergeAlternately('ab', 'pqrs')"
   ]
  },
  {
   "cell_type": "code",
   "execution_count": null,
   "metadata": {},
   "outputs": [],
   "source": []
  }
 ],
 "metadata": {
  "kernelspec": {
   "display_name": "Python 3",
   "language": "python",
   "name": "python3"
  },
  "language_info": {
   "codemirror_mode": {
    "name": "ipython",
    "version": 3
   },
   "file_extension": ".py",
   "mimetype": "text/x-python",
   "name": "python",
   "nbconvert_exporter": "python",
   "pygments_lexer": "ipython3",
   "version": "3.10.11"
  }
 },
 "nbformat": 4,
 "nbformat_minor": 2
}
